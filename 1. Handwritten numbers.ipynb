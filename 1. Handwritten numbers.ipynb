{
 "cells": [
  {
   "cell_type": "code",
   "execution_count": 15,
   "id": "22db880e",
   "metadata": {},
   "outputs": [
    {
     "name": "stdout",
     "output_type": "stream",
     "text": [
      "Epoch 1/3\n",
      "1875/1875 [==============================] - 4s 2ms/step - loss: 0.2622 - accuracy: 0.9240\n",
      "Epoch 2/3\n",
      "1875/1875 [==============================] - 4s 2ms/step - loss: 0.1109 - accuracy: 0.9657\n",
      "Epoch 3/3\n",
      "1875/1875 [==============================] - 4s 2ms/step - loss: 0.0735 - accuracy: 0.9770\n"
     ]
    },
    {
     "data": {
      "text/plain": [
       "<tensorflow.python.keras.callbacks.History at 0x1ff0f0ed0a0>"
      ]
     },
     "execution_count": 15,
     "metadata": {},
     "output_type": "execute_result"
    }
   ],
   "source": [
    "import tensorflow as tf\n",
    "\n",
    "mnist=tf.keras.datasets.mnist #28x28 images of hand written digits 0-9\n",
    "\n",
    "(x_train, y_train), (x_test, y_test)= mnist.load_data()\n",
    "x_train=tf.keras.utils.normalize(x_train, axis=1)\n",
    "x_test=tf.keras.utils.normalize(x_test, axis=1)\n",
    "\n",
    "model=tf.keras.models.Sequential()\n",
    "model.add(tf.keras.layers.Flatten())\n",
    "model.add(tf.keras.layers.Dense(128,activation=tf.nn.relu))\n",
    "model.add(tf.keras.layers.Dense(128,activation=tf.nn.relu))\n",
    "model.add(tf.keras.layers.Dense(10,activation=tf.nn.softmax))\n",
    "\n",
    "model.compile(optimizer='adam' , loss='sparse_categorical_crossentropy' , metrics=['accuracy'])\n",
    "\n",
    "model.fit(x_train, y_train, epochs=3)"
   ]
  },
  {
   "cell_type": "code",
   "execution_count": 17,
   "id": "63b5d6a0",
   "metadata": {},
   "outputs": [
    {
     "name": "stdout",
     "output_type": "stream",
     "text": [
      "313/313 [==============================] - 0s 1ms/step - loss: 0.0959 - accuracy: 0.9705\n",
      "0.0958876982331276 0.9704999923706055\n"
     ]
    }
   ],
   "source": [
    "val_loss, val_acc=model.evaluate(x_test, y_test)\n",
    "print(val_loss,val_acc)"
   ]
  },
  {
   "cell_type": "code",
   "execution_count": 34,
   "id": "3666417e",
   "metadata": {},
   "outputs": [
    {
     "data": {
      "text/plain": [
       "<matplotlib.image.AxesImage at 0x1ff0ca4aac0>"
      ]
     },
     "execution_count": 34,
     "metadata": {},
     "output_type": "execute_result"
    },
    {
     "data": {
      "image/png": "[encoded data removed]",
      "text/plain": [
       "<Figure size 432x288 with 1 Axes>"
      ]
     },
     "metadata": {
      "needs_background": "light"
     },
     "output_type": "display_data"
    }
   ],
   "source": [
    "import matplotlib.pyplot as plt\n",
    "plt.imshow(x_train[0])\n",
    "#print(x_train[0])"
   ]
  },
  {
   "cell_type": "code",
   "execution_count": 26,
   "id": "8768ebb9",
   "metadata": {},
   "outputs": [
    {
     "name": "stdout",
     "output_type": "stream",
     "text": [
      "INFO:tensorflow:Assets written to: num_reader.model\\assets\n"
     ]
    }
   ],
   "source": [
    "model.save('num_reader.model')"
   ]
  },
  {
   "cell_type": "code",
   "execution_count": 27,
   "id": "3e27d2da",
   "metadata": {},
   "outputs": [],
   "source": [
    "new_model=tf.keras.models.load_model('num_reader.model')"
   ]
  },
  {
   "cell_type": "code",
   "execution_count": 28,
   "id": "15b898c9",
   "metadata": {},
   "outputs": [],
   "source": [
    "predictions=new_model.predict([x_test])"
   ]
  },
  {
   "cell_type": "code",
   "execution_count": 29,
   "id": "8ebf1340",
   "metadata": {},
   "outputs": [
    {
     "name": "stdout",
     "output_type": "stream",
     "text": [
      "[[1.4663532e-07 2.8375684e-08 4.8961483e-05 ... 9.9977309e-01\n",
      "  1.3854762e-08 1.7170804e-06]\n",
      " [2.4779531e-06 1.9552012e-03 9.9764580e-01 ... 8.9957630e-10\n",
      "  2.3798209e-05 7.8021006e-10]\n",
      " [1.0539560e-06 9.9960393e-01 9.7237544e-06 ... 1.1475672e-04\n",
      "  1.9737004e-04 4.0279151e-06]\n",
      " ...\n",
      " [7.2997286e-10 3.5795036e-08 2.5509821e-09 ... 1.4588929e-05\n",
      "  3.0223098e-06 4.9376051e-04]\n",
      " [1.3963540e-07 2.0546862e-08 8.6054612e-08 ... 5.5079545e-07\n",
      "  1.5656662e-03 2.3013941e-08]\n",
      " [5.8666583e-06 1.2798965e-10 2.0814099e-08 ... 1.1735014e-12\n",
      "  3.4750030e-07 6.2827116e-10]]\n"
     ]
    }
   ],
   "source": [
    "print(predictions)"
   ]
  },
  {
   "cell_type": "code",
   "execution_count": 39,
   "id": "dda144c5",
   "metadata": {},
   "outputs": [
    {
     "name": "stdout",
     "output_type": "stream",
     "text": [
      "9\n"
     ]
    }
   ],
   "source": [
    "import numpy as np\n",
    "print(np.argmax(predictions[150]))"
   ]
  },
  {
   "cell_type": "code",
   "execution_count": 40,
   "id": "aeb770be",
   "metadata": {},
   "outputs": [
    {
     "data": {
      "image/png": "[encoded data removed]",
      "text/plain": [
       "<Figure size 432x288 with 1 Axes>"
      ]
     },
     "metadata": {
      "needs_background": "light"
     },
     "output_type": "display_data"
    }
   ],
   "source": [
    "plt.imshow(x_test[150])\n",
    "plt.show()"
   ]
  },
  {
   "cell_type": "code",
   "execution_count": null,
   "id": "4f94cdfe",
   "metadata": {},
   "outputs": [],
   "source": [
    "1"
   ]
  }
 ],
 "metadata": {
  "kernelspec": {
   "display_name": "Python 3",
   "language": "python",
   "name": "python3"
  },
  "language_info": {
   "codemirror_mode": {
    "name": "ipython",
    "version": 3
   },
   "file_extension": ".py",
   "mimetype": "text/x-python",
   "name": "python",
   "nbconvert_exporter": "python",
   "pygments_lexer": "ipython3",
   "version": "3.8.8"
  }
 },
 "nbformat": 4,
 "nbformat_minor": 5
}
