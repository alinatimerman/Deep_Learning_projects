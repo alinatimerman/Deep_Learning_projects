{
 "cells": [
  {
   "cell_type": "code",
   "execution_count": 14,
   "id": "9d97e6ef",
   "metadata": {},
   "outputs": [],
   "source": [
    "from tensorflow.keras.models import Sequential\n",
    "from tensorflow.keras.layers import Dense, Dropout, Activation, Flatten\n",
    "from tensorflow.keras.layers import Conv2D, MaxPooling2D\n",
    "# more info on callbakcs: https://keras.io/callbacks/ model saver is cool too.\n",
    "from tensorflow.keras.callbacks import TensorBoard\n",
    "import pickle\n",
    "import time"
   ]
  },
  {
   "cell_type": "code",
   "execution_count": 9,
   "id": "ec0e7c1e",
   "metadata": {},
   "outputs": [],
   "source": [
    "NAME = \"Cats-vs-dogs-64x2-CNN\"\n",
    "\n",
    "pickle_in = open(\"X.pickle\",\"rb\")\n",
    "X = pickle.load(pickle_in)\n",
    "\n",
    "pickle_in = open(\"y.pickle\",\"rb\")\n",
    "y = pickle.load(pickle_in)"
   ]
  },
  {
   "cell_type": "code",
   "execution_count": 15,
   "id": "ca20594f",
   "metadata": {},
   "outputs": [],
   "source": [
    "import numpy as np"
   ]
  },
  {
   "cell_type": "code",
   "execution_count": 10,
   "id": "128fd339",
   "metadata": {},
   "outputs": [],
   "source": [
    "X=np.array(X/255.0)\n",
    "y=np.array(y)"
   ]
  },
  {
   "cell_type": "code",
   "execution_count": 16,
   "id": "e9c0a66a",
   "metadata": {},
   "outputs": [],
   "source": [
    "model = Sequential()\n",
    "\n",
    "model.add(Conv2D(64, (3, 3), input_shape=X.shape[1:]))\n",
    "model.add(Activation('relu'))\n",
    "model.add(MaxPooling2D(pool_size=(2, 2)))\n",
    "\n",
    "model.add(Conv2D(64, (3, 3)))\n",
    "model.add(Activation('relu'))\n",
    "model.add(MaxPooling2D(pool_size=(2, 2)))\n",
    "\n",
    "model.add(Flatten())  # this converts our 3D feature maps to 1D feature vectors\n",
    "model.add(Dense(64))\n",
    "model.add(Activation('relu'))\n",
    "\n",
    "model.add(Dense(1))\n",
    "model.add(Activation('sigmoid'))"
   ]
  },
  {
   "cell_type": "code",
   "execution_count": 17,
   "id": "05b0569a",
   "metadata": {},
   "outputs": [
    {
     "name": "stdout",
     "output_type": "stream",
     "text": [
      "Epoch 1/10\n",
      " 2/45 [>.............................] - ETA: 16s - loss: 0.6939 - accuracy: 0.5312WARNING:tensorflow:Callbacks method `on_train_batch_end` is slow compared to the batch time (batch time: 0.1540s vs `on_train_batch_end` time: 0.6338s). Check your callbacks.\n",
      "45/45 [==============================] - 8s 178ms/step - loss: 0.6936 - accuracy: 0.4661 - val_loss: 0.6931 - val_accuracy: 0.5281\n",
      "Epoch 2/10\n",
      "45/45 [==============================] - 7s 150ms/step - loss: 0.6931 - accuracy: 0.5149 - val_loss: 0.6934 - val_accuracy: 0.4719\n",
      "Epoch 3/10\n",
      "45/45 [==============================] - 7s 159ms/step - loss: 0.6930 - accuracy: 0.5120 - val_loss: 0.6937 - val_accuracy: 0.4719\n",
      "Epoch 4/10\n",
      "45/45 [==============================] - 6s 141ms/step - loss: 0.6930 - accuracy: 0.5120 - val_loss: 0.6937 - val_accuracy: 0.4719\n",
      "Epoch 5/10\n",
      "45/45 [==============================] - 6s 141ms/step - loss: 0.6930 - accuracy: 0.5120 - val_loss: 0.6937 - val_accuracy: 0.4719\n",
      "Epoch 6/10\n",
      "45/45 [==============================] - 6s 141ms/step - loss: 0.6930 - accuracy: 0.5120 - val_loss: 0.6938 - val_accuracy: 0.4719\n",
      "Epoch 7/10\n",
      "45/45 [==============================] - 6s 140ms/step - loss: 0.6930 - accuracy: 0.5120 - val_loss: 0.6939 - val_accuracy: 0.4719\n",
      "Epoch 8/10\n",
      "45/45 [==============================] - 6s 142ms/step - loss: 0.6930 - accuracy: 0.5120 - val_loss: 0.6940 - val_accuracy: 0.4719\n",
      "Epoch 9/10\n",
      "45/45 [==============================] - 6s 143ms/step - loss: 0.6929 - accuracy: 0.5120 - val_loss: 0.6941 - val_accuracy: 0.4719\n",
      "Epoch 10/10\n",
      "45/45 [==============================] - 7s 155ms/step - loss: 0.6930 - accuracy: 0.5120 - val_loss: 0.6943 - val_accuracy: 0.4719 - loss: 0.692\n"
     ]
    },
    {
     "data": {
      "text/plain": [
       "<tensorflow.python.keras.callbacks.History at 0x26380725400>"
      ]
     },
     "execution_count": 17,
     "metadata": {},
     "output_type": "execute_result"
    }
   ],
   "source": [
    "tensorboard = TensorBoard(log_dir=\"logs/{}\".format(NAME))\n",
    "\n",
    "model.compile(loss='binary_crossentropy',\n",
    "              optimizer='adam',\n",
    "              metrics=['accuracy'],\n",
    "              )\n",
    "\n",
    "model.fit(X, y,\n",
    "          batch_size=32,\n",
    "          epochs=10,\n",
    "          validation_split=0.3,\n",
    "          callbacks=[tensorboard])"
   ]
  },
  {
   "cell_type": "code",
   "execution_count": null,
   "id": "552121a2",
   "metadata": {},
   "outputs": [],
   "source": []
  }
 ],
 "metadata": {
  "kernelspec": {
   "display_name": "Python 3",
   "language": "python",
   "name": "python3"
  },
  "language_info": {
   "codemirror_mode": {
    "name": "ipython",
    "version": 3
   },
   "file_extension": ".py",
   "mimetype": "text/x-python",
   "name": "python",
   "nbconvert_exporter": "python",
   "pygments_lexer": "ipython3",
   "version": "3.8.8"
  }
 },
 "nbformat": 4,
 "nbformat_minor": 5
}
