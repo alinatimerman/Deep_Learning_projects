{
 "cells": [
  {
   "cell_type": "markdown",
   "id": "98ed5a4a",
   "metadata": {},
   "source": [
    "## Image classifier using Tensorflow"
   ]
  },
  {
   "cell_type": "code",
   "execution_count": 31,
   "id": "a81a32e2",
   "metadata": {},
   "outputs": [],
   "source": [
    "import tensorflow as tf\n",
    "from tensorflow.keras.models import Sequential\n",
    "from tensorflow.keras.layers import Dense, Dropout, Activation, Flatten, Conv2D, MaxPooling2D\n",
    "import pickle\n",
    "import numpy as np\n",
    "\n",
    "X=pickle.load(open(\"X.pickle\", \"rb\"))\n",
    "y=pickle.load(open(\"Y.pickle\", \"rb\"))"
   ]
  },
  {
   "cell_type": "code",
   "execution_count": 32,
   "id": "8e628780",
   "metadata": {},
   "outputs": [],
   "source": [
    "X=np.array(X/255.0)\n",
    "y=np.array(y)\n",
    "\n",
    "model= Sequential()\n",
    "model.add(Conv2D(64, (3,3), input_shape=X.shape[1:])) #conv layer--> 64 units, 3x3 window size, input shape\n",
    "model.add(Activation(\"relu\"))\n",
    "model.add(MaxPooling2D(pool_size=(2,2)))"
   ]
  },
  {
   "cell_type": "code",
   "execution_count": 33,
   "id": "7807f327",
   "metadata": {},
   "outputs": [],
   "source": [
    "model.add(Conv2D(64, (3,3)))\n",
    "model.add(Activation(\"relu\"))\n",
    "model.add(MaxPooling2D(pool_size=(2,2)))"
   ]
  },
  {
   "cell_type": "code",
   "execution_count": 34,
   "id": "3a84f27c",
   "metadata": {},
   "outputs": [],
   "source": [
    "model.add(Flatten())\n",
    "model.add(Dense(64))\n",
    "\n",
    "model.add(Dense(1))\n",
    "model.add(Activation('sigmoid'))\n",
    "\n",
    "model.compile(loss=\"binary_crossentropy\",\n",
    "              optimizer=\"adam\",\n",
    "              metrics=['accuracy'])"
   ]
  },
  {
   "cell_type": "markdown",
   "id": "b2505c72",
   "metadata": {},
   "source": [
    "#### Training "
   ]
  },
  {
   "cell_type": "code",
   "execution_count": 38,
   "id": "5fabc90d",
   "metadata": {},
   "outputs": [
    {
     "name": "stdout",
     "output_type": "stream",
     "text": [
      "Epoch 1/5\n",
      "57/57 [==============================] - 8s 142ms/step - loss: 0.0035 - accuracy: 1.0000 - val_loss: 1.8689 - val_accuracy: 0.7030\n",
      "Epoch 2/5\n",
      "57/57 [==============================] - 8s 143ms/step - loss: 0.0024 - accuracy: 1.0000 - val_loss: 1.9425 - val_accuracy: 0.7030\n",
      "Epoch 3/5\n",
      "57/57 [==============================] - 8s 143ms/step - loss: 0.0021 - accuracy: 1.0000 - val_loss: 1.9671 - val_accuracy: 0.7030\n",
      "Epoch 4/5\n",
      "57/57 [==============================] - 8s 149ms/step - loss: 0.0017 - accuracy: 1.0000 - val_loss: 2.0379 - val_accuracy: 0.7030\n",
      "Epoch 5/5\n",
      "57/57 [==============================] - 8s 141ms/step - loss: 0.0015 - accuracy: 1.0000 - val_loss: 2.0694 - val_accuracy: 0.7030\n"
     ]
    },
    {
     "data": {
      "text/plain": [
       "<tensorflow.python.keras.callbacks.History at 0x2100c27dd90>"
      ]
     },
     "execution_count": 38,
     "metadata": {},
     "output_type": "execute_result"
    }
   ],
   "source": [
    "model.fit(X, y, batch_size=32, epochs=5, validation_split=0.1)"
   ]
  },
  {
   "cell_type": "code",
   "execution_count": null,
   "id": "aefbc5a9",
   "metadata": {},
   "outputs": [],
   "source": []
  }
 ],
 "metadata": {
  "kernelspec": {
   "display_name": "Python 3",
   "language": "python",
   "name": "python3"
  },
  "language_info": {
   "codemirror_mode": {
    "name": "ipython",
    "version": 3
   },
   "file_extension": ".py",
   "mimetype": "text/x-python",
   "name": "python",
   "nbconvert_exporter": "python",
   "pygments_lexer": "ipython3",
   "version": "3.8.8"
  }
 },
 "nbformat": 4,
 "nbformat_minor": 5
}
